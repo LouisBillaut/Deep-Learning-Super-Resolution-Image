{
  "nbformat": 4,
  "nbformat_minor": 0,
  "metadata": {
    "colab": {
      "name": "ProjetFinal_b3.ipynb",
      "provenance": [],
      "collapsed_sections": []
    },
    "kernelspec": {
      "name": "python3",
      "display_name": "Python 3"
    },
    "accelerator": "GPU",
    "widgets": {
      "application/vnd.jupyter.widget-state+json": {
        "07f457bcc8604a9ebf4f7bd0236ae887": {
          "model_module": "@jupyter-widgets/controls",
          "model_name": "HBoxModel",
          "state": {
            "_view_name": "HBoxView",
            "_dom_classes": [],
            "_model_name": "HBoxModel",
            "_view_module": "@jupyter-widgets/controls",
            "_model_module_version": "1.5.0",
            "_view_count": null,
            "_view_module_version": "1.5.0",
            "box_style": "",
            "layout": "IPY_MODEL_15d51f4dd0a44eba8dfd85b96217f611",
            "_model_module": "@jupyter-widgets/controls",
            "children": [
              "IPY_MODEL_a21953dbe71b4087b96e9bd0332f4b6c",
              "IPY_MODEL_a14b64dbbc924d95b273c875aa00c63d"
            ]
          }
        },
        "15d51f4dd0a44eba8dfd85b96217f611": {
          "model_module": "@jupyter-widgets/base",
          "model_name": "LayoutModel",
          "state": {
            "_view_name": "LayoutView",
            "grid_template_rows": null,
            "right": null,
            "justify_content": null,
            "_view_module": "@jupyter-widgets/base",
            "overflow": null,
            "_model_module_version": "1.2.0",
            "_view_count": null,
            "flex_flow": null,
            "width": null,
            "min_width": null,
            "border": null,
            "align_items": null,
            "bottom": null,
            "_model_module": "@jupyter-widgets/base",
            "top": null,
            "grid_column": null,
            "overflow_y": null,
            "overflow_x": null,
            "grid_auto_flow": null,
            "grid_area": null,
            "grid_template_columns": null,
            "flex": null,
            "_model_name": "LayoutModel",
            "justify_items": null,
            "grid_row": null,
            "max_height": null,
            "align_content": null,
            "visibility": null,
            "align_self": null,
            "height": null,
            "min_height": null,
            "padding": null,
            "grid_auto_rows": null,
            "grid_gap": null,
            "max_width": null,
            "order": null,
            "_view_module_version": "1.2.0",
            "grid_template_areas": null,
            "object_position": null,
            "object_fit": null,
            "grid_auto_columns": null,
            "margin": null,
            "display": null,
            "left": null
          }
        },
        "a21953dbe71b4087b96e9bd0332f4b6c": {
          "model_module": "@jupyter-widgets/controls",
          "model_name": "FloatProgressModel",
          "state": {
            "_view_name": "ProgressView",
            "style": "IPY_MODEL_b5979a23229845ca9f17a94f80d355b5",
            "_dom_classes": [],
            "description": "",
            "_model_name": "FloatProgressModel",
            "bar_style": "success",
            "max": 1,
            "_view_module": "@jupyter-widgets/controls",
            "_model_module_version": "1.5.0",
            "value": 1,
            "_view_count": null,
            "_view_module_version": "1.5.0",
            "orientation": "horizontal",
            "min": 0,
            "description_tooltip": null,
            "_model_module": "@jupyter-widgets/controls",
            "layout": "IPY_MODEL_3975c88519a047359572a8161cb83b75"
          }
        },
        "a14b64dbbc924d95b273c875aa00c63d": {
          "model_module": "@jupyter-widgets/controls",
          "model_name": "HTMLModel",
          "state": {
            "_view_name": "HTMLView",
            "style": "IPY_MODEL_e6b31e28d8cc43b0b4aa08b4a1977e08",
            "_dom_classes": [],
            "description": "",
            "_model_name": "HTMLModel",
            "placeholder": "​",
            "_view_module": "@jupyter-widgets/controls",
            "_model_module_version": "1.5.0",
            "value": " 9920512/? [00:07&lt;00:00, 1387471.64it/s]",
            "_view_count": null,
            "_view_module_version": "1.5.0",
            "description_tooltip": null,
            "_model_module": "@jupyter-widgets/controls",
            "layout": "IPY_MODEL_e21316512ef2468d867282d902029959"
          }
        },
        "b5979a23229845ca9f17a94f80d355b5": {
          "model_module": "@jupyter-widgets/controls",
          "model_name": "ProgressStyleModel",
          "state": {
            "_view_name": "StyleView",
            "_model_name": "ProgressStyleModel",
            "description_width": "initial",
            "_view_module": "@jupyter-widgets/base",
            "_model_module_version": "1.5.0",
            "_view_count": null,
            "_view_module_version": "1.2.0",
            "bar_color": null,
            "_model_module": "@jupyter-widgets/controls"
          }
        },
        "3975c88519a047359572a8161cb83b75": {
          "model_module": "@jupyter-widgets/base",
          "model_name": "LayoutModel",
          "state": {
            "_view_name": "LayoutView",
            "grid_template_rows": null,
            "right": null,
            "justify_content": null,
            "_view_module": "@jupyter-widgets/base",
            "overflow": null,
            "_model_module_version": "1.2.0",
            "_view_count": null,
            "flex_flow": null,
            "width": null,
            "min_width": null,
            "border": null,
            "align_items": null,
            "bottom": null,
            "_model_module": "@jupyter-widgets/base",
            "top": null,
            "grid_column": null,
            "overflow_y": null,
            "overflow_x": null,
            "grid_auto_flow": null,
            "grid_area": null,
            "grid_template_columns": null,
            "flex": null,
            "_model_name": "LayoutModel",
            "justify_items": null,
            "grid_row": null,
            "max_height": null,
            "align_content": null,
            "visibility": null,
            "align_self": null,
            "height": null,
            "min_height": null,
            "padding": null,
            "grid_auto_rows": null,
            "grid_gap": null,
            "max_width": null,
            "order": null,
            "_view_module_version": "1.2.0",
            "grid_template_areas": null,
            "object_position": null,
            "object_fit": null,
            "grid_auto_columns": null,
            "margin": null,
            "display": null,
            "left": null
          }
        },
        "e6b31e28d8cc43b0b4aa08b4a1977e08": {
          "model_module": "@jupyter-widgets/controls",
          "model_name": "DescriptionStyleModel",
          "state": {
            "_view_name": "StyleView",
            "_model_name": "DescriptionStyleModel",
            "description_width": "",
            "_view_module": "@jupyter-widgets/base",
            "_model_module_version": "1.5.0",
            "_view_count": null,
            "_view_module_version": "1.2.0",
            "_model_module": "@jupyter-widgets/controls"
          }
        },
        "e21316512ef2468d867282d902029959": {
          "model_module": "@jupyter-widgets/base",
          "model_name": "LayoutModel",
          "state": {
            "_view_name": "LayoutView",
            "grid_template_rows": null,
            "right": null,
            "justify_content": null,
            "_view_module": "@jupyter-widgets/base",
            "overflow": null,
            "_model_module_version": "1.2.0",
            "_view_count": null,
            "flex_flow": null,
            "width": null,
            "min_width": null,
            "border": null,
            "align_items": null,
            "bottom": null,
            "_model_module": "@jupyter-widgets/base",
            "top": null,
            "grid_column": null,
            "overflow_y": null,
            "overflow_x": null,
            "grid_auto_flow": null,
            "grid_area": null,
            "grid_template_columns": null,
            "flex": null,
            "_model_name": "LayoutModel",
            "justify_items": null,
            "grid_row": null,
            "max_height": null,
            "align_content": null,
            "visibility": null,
            "align_self": null,
            "height": null,
            "min_height": null,
            "padding": null,
            "grid_auto_rows": null,
            "grid_gap": null,
            "max_width": null,
            "order": null,
            "_view_module_version": "1.2.0",
            "grid_template_areas": null,
            "object_position": null,
            "object_fit": null,
            "grid_auto_columns": null,
            "margin": null,
            "display": null,
            "left": null
          }
        },
        "7d7f5693b914468c974ea88f4bf9c9b8": {
          "model_module": "@jupyter-widgets/controls",
          "model_name": "HBoxModel",
          "state": {
            "_view_name": "HBoxView",
            "_dom_classes": [],
            "_model_name": "HBoxModel",
            "_view_module": "@jupyter-widgets/controls",
            "_model_module_version": "1.5.0",
            "_view_count": null,
            "_view_module_version": "1.5.0",
            "box_style": "",
            "layout": "IPY_MODEL_9b358ed724774cb698ebe65d78c03746",
            "_model_module": "@jupyter-widgets/controls",
            "children": [
              "IPY_MODEL_280147e383304fb997803580988d8d8a",
              "IPY_MODEL_22f3b4e9ea47481286e5a9565e164f16"
            ]
          }
        },
        "9b358ed724774cb698ebe65d78c03746": {
          "model_module": "@jupyter-widgets/base",
          "model_name": "LayoutModel",
          "state": {
            "_view_name": "LayoutView",
            "grid_template_rows": null,
            "right": null,
            "justify_content": null,
            "_view_module": "@jupyter-widgets/base",
            "overflow": null,
            "_model_module_version": "1.2.0",
            "_view_count": null,
            "flex_flow": null,
            "width": null,
            "min_width": null,
            "border": null,
            "align_items": null,
            "bottom": null,
            "_model_module": "@jupyter-widgets/base",
            "top": null,
            "grid_column": null,
            "overflow_y": null,
            "overflow_x": null,
            "grid_auto_flow": null,
            "grid_area": null,
            "grid_template_columns": null,
            "flex": null,
            "_model_name": "LayoutModel",
            "justify_items": null,
            "grid_row": null,
            "max_height": null,
            "align_content": null,
            "visibility": null,
            "align_self": null,
            "height": null,
            "min_height": null,
            "padding": null,
            "grid_auto_rows": null,
            "grid_gap": null,
            "max_width": null,
            "order": null,
            "_view_module_version": "1.2.0",
            "grid_template_areas": null,
            "object_position": null,
            "object_fit": null,
            "grid_auto_columns": null,
            "margin": null,
            "display": null,
            "left": null
          }
        },
        "280147e383304fb997803580988d8d8a": {
          "model_module": "@jupyter-widgets/controls",
          "model_name": "FloatProgressModel",
          "state": {
            "_view_name": "ProgressView",
            "style": "IPY_MODEL_80d39d641d6e4f9183da0f76411c6b3e",
            "_dom_classes": [],
            "description": "",
            "_model_name": "FloatProgressModel",
            "bar_style": "success",
            "max": 1,
            "_view_module": "@jupyter-widgets/controls",
            "_model_module_version": "1.5.0",
            "value": 1,
            "_view_count": null,
            "_view_module_version": "1.5.0",
            "orientation": "horizontal",
            "min": 0,
            "description_tooltip": null,
            "_model_module": "@jupyter-widgets/controls",
            "layout": "IPY_MODEL_4eebbaca8d4547e1b9064263fc49d62b"
          }
        },
        "22f3b4e9ea47481286e5a9565e164f16": {
          "model_module": "@jupyter-widgets/controls",
          "model_name": "HTMLModel",
          "state": {
            "_view_name": "HTMLView",
            "style": "IPY_MODEL_656253c3231745c49ca17307f57d8801",
            "_dom_classes": [],
            "description": "",
            "_model_name": "HTMLModel",
            "placeholder": "​",
            "_view_module": "@jupyter-widgets/controls",
            "_model_module_version": "1.5.0",
            "value": " 32768/? [00:03&lt;00:00, 8636.43it/s]",
            "_view_count": null,
            "_view_module_version": "1.5.0",
            "description_tooltip": null,
            "_model_module": "@jupyter-widgets/controls",
            "layout": "IPY_MODEL_d371dca9dca04d4f86c3e6626b887c68"
          }
        },
        "80d39d641d6e4f9183da0f76411c6b3e": {
          "model_module": "@jupyter-widgets/controls",
          "model_name": "ProgressStyleModel",
          "state": {
            "_view_name": "StyleView",
            "_model_name": "ProgressStyleModel",
            "description_width": "initial",
            "_view_module": "@jupyter-widgets/base",
            "_model_module_version": "1.5.0",
            "_view_count": null,
            "_view_module_version": "1.2.0",
            "bar_color": null,
            "_model_module": "@jupyter-widgets/controls"
          }
        },
        "4eebbaca8d4547e1b9064263fc49d62b": {
          "model_module": "@jupyter-widgets/base",
          "model_name": "LayoutModel",
          "state": {
            "_view_name": "LayoutView",
            "grid_template_rows": null,
            "right": null,
            "justify_content": null,
            "_view_module": "@jupyter-widgets/base",
            "overflow": null,
            "_model_module_version": "1.2.0",
            "_view_count": null,
            "flex_flow": null,
            "width": null,
            "min_width": null,
            "border": null,
            "align_items": null,
            "bottom": null,
            "_model_module": "@jupyter-widgets/base",
            "top": null,
            "grid_column": null,
            "overflow_y": null,
            "overflow_x": null,
            "grid_auto_flow": null,
            "grid_area": null,
            "grid_template_columns": null,
            "flex": null,
            "_model_name": "LayoutModel",
            "justify_items": null,
            "grid_row": null,
            "max_height": null,
            "align_content": null,
            "visibility": null,
            "align_self": null,
            "height": null,
            "min_height": null,
            "padding": null,
            "grid_auto_rows": null,
            "grid_gap": null,
            "max_width": null,
            "order": null,
            "_view_module_version": "1.2.0",
            "grid_template_areas": null,
            "object_position": null,
            "object_fit": null,
            "grid_auto_columns": null,
            "margin": null,
            "display": null,
            "left": null
          }
        },
        "656253c3231745c49ca17307f57d8801": {
          "model_module": "@jupyter-widgets/controls",
          "model_name": "DescriptionStyleModel",
          "state": {
            "_view_name": "StyleView",
            "_model_name": "DescriptionStyleModel",
            "description_width": "",
            "_view_module": "@jupyter-widgets/base",
            "_model_module_version": "1.5.0",
            "_view_count": null,
            "_view_module_version": "1.2.0",
            "_model_module": "@jupyter-widgets/controls"
          }
        },
        "d371dca9dca04d4f86c3e6626b887c68": {
          "model_module": "@jupyter-widgets/base",
          "model_name": "LayoutModel",
          "state": {
            "_view_name": "LayoutView",
            "grid_template_rows": null,
            "right": null,
            "justify_content": null,
            "_view_module": "@jupyter-widgets/base",
            "overflow": null,
            "_model_module_version": "1.2.0",
            "_view_count": null,
            "flex_flow": null,
            "width": null,
            "min_width": null,
            "border": null,
            "align_items": null,
            "bottom": null,
            "_model_module": "@jupyter-widgets/base",
            "top": null,
            "grid_column": null,
            "overflow_y": null,
            "overflow_x": null,
            "grid_auto_flow": null,
            "grid_area": null,
            "grid_template_columns": null,
            "flex": null,
            "_model_name": "LayoutModel",
            "justify_items": null,
            "grid_row": null,
            "max_height": null,
            "align_content": null,
            "visibility": null,
            "align_self": null,
            "height": null,
            "min_height": null,
            "padding": null,
            "grid_auto_rows": null,
            "grid_gap": null,
            "max_width": null,
            "order": null,
            "_view_module_version": "1.2.0",
            "grid_template_areas": null,
            "object_position": null,
            "object_fit": null,
            "grid_auto_columns": null,
            "margin": null,
            "display": null,
            "left": null
          }
        },
        "56e8e5a12aa44aa2b25e9e4dcad17031": {
          "model_module": "@jupyter-widgets/controls",
          "model_name": "HBoxModel",
          "state": {
            "_view_name": "HBoxView",
            "_dom_classes": [],
            "_model_name": "HBoxModel",
            "_view_module": "@jupyter-widgets/controls",
            "_model_module_version": "1.5.0",
            "_view_count": null,
            "_view_module_version": "1.5.0",
            "box_style": "",
            "layout": "IPY_MODEL_0e7c4acede1c4db7a15b25bcbb65f99b",
            "_model_module": "@jupyter-widgets/controls",
            "children": [
              "IPY_MODEL_da834b16d8d841c3a3868c1f0657e54a",
              "IPY_MODEL_811a08b5cdd64bc0bffa483ef62ba59f"
            ]
          }
        },
        "0e7c4acede1c4db7a15b25bcbb65f99b": {
          "model_module": "@jupyter-widgets/base",
          "model_name": "LayoutModel",
          "state": {
            "_view_name": "LayoutView",
            "grid_template_rows": null,
            "right": null,
            "justify_content": null,
            "_view_module": "@jupyter-widgets/base",
            "overflow": null,
            "_model_module_version": "1.2.0",
            "_view_count": null,
            "flex_flow": null,
            "width": null,
            "min_width": null,
            "border": null,
            "align_items": null,
            "bottom": null,
            "_model_module": "@jupyter-widgets/base",
            "top": null,
            "grid_column": null,
            "overflow_y": null,
            "overflow_x": null,
            "grid_auto_flow": null,
            "grid_area": null,
            "grid_template_columns": null,
            "flex": null,
            "_model_name": "LayoutModel",
            "justify_items": null,
            "grid_row": null,
            "max_height": null,
            "align_content": null,
            "visibility": null,
            "align_self": null,
            "height": null,
            "min_height": null,
            "padding": null,
            "grid_auto_rows": null,
            "grid_gap": null,
            "max_width": null,
            "order": null,
            "_view_module_version": "1.2.0",
            "grid_template_areas": null,
            "object_position": null,
            "object_fit": null,
            "grid_auto_columns": null,
            "margin": null,
            "display": null,
            "left": null
          }
        },
        "da834b16d8d841c3a3868c1f0657e54a": {
          "model_module": "@jupyter-widgets/controls",
          "model_name": "FloatProgressModel",
          "state": {
            "_view_name": "ProgressView",
            "style": "IPY_MODEL_91efdaefde944ed7a008f12878af6ada",
            "_dom_classes": [],
            "description": "",
            "_model_name": "FloatProgressModel",
            "bar_style": "success",
            "max": 1,
            "_view_module": "@jupyter-widgets/controls",
            "_model_module_version": "1.5.0",
            "value": 1,
            "_view_count": null,
            "_view_module_version": "1.5.0",
            "orientation": "horizontal",
            "min": 0,
            "description_tooltip": null,
            "_model_module": "@jupyter-widgets/controls",
            "layout": "IPY_MODEL_daac6e2d435e4a788d84a1fb093bbcfe"
          }
        },
        "811a08b5cdd64bc0bffa483ef62ba59f": {
          "model_module": "@jupyter-widgets/controls",
          "model_name": "HTMLModel",
          "state": {
            "_view_name": "HTMLView",
            "style": "IPY_MODEL_b0e52ecc16554e7d8c76c5aaf2a7027c",
            "_dom_classes": [],
            "description": "",
            "_model_name": "HTMLModel",
            "placeholder": "​",
            "_view_module": "@jupyter-widgets/controls",
            "_model_module_version": "1.5.0",
            "value": " 1654784/? [00:02&lt;00:00, 790883.69it/s]",
            "_view_count": null,
            "_view_module_version": "1.5.0",
            "description_tooltip": null,
            "_model_module": "@jupyter-widgets/controls",
            "layout": "IPY_MODEL_98e781af5c4a4a8bb157c791f02b82c2"
          }
        },
        "91efdaefde944ed7a008f12878af6ada": {
          "model_module": "@jupyter-widgets/controls",
          "model_name": "ProgressStyleModel",
          "state": {
            "_view_name": "StyleView",
            "_model_name": "ProgressStyleModel",
            "description_width": "initial",
            "_view_module": "@jupyter-widgets/base",
            "_model_module_version": "1.5.0",
            "_view_count": null,
            "_view_module_version": "1.2.0",
            "bar_color": null,
            "_model_module": "@jupyter-widgets/controls"
          }
        },
        "daac6e2d435e4a788d84a1fb093bbcfe": {
          "model_module": "@jupyter-widgets/base",
          "model_name": "LayoutModel",
          "state": {
            "_view_name": "LayoutView",
            "grid_template_rows": null,
            "right": null,
            "justify_content": null,
            "_view_module": "@jupyter-widgets/base",
            "overflow": null,
            "_model_module_version": "1.2.0",
            "_view_count": null,
            "flex_flow": null,
            "width": null,
            "min_width": null,
            "border": null,
            "align_items": null,
            "bottom": null,
            "_model_module": "@jupyter-widgets/base",
            "top": null,
            "grid_column": null,
            "overflow_y": null,
            "overflow_x": null,
            "grid_auto_flow": null,
            "grid_area": null,
            "grid_template_columns": null,
            "flex": null,
            "_model_name": "LayoutModel",
            "justify_items": null,
            "grid_row": null,
            "max_height": null,
            "align_content": null,
            "visibility": null,
            "align_self": null,
            "height": null,
            "min_height": null,
            "padding": null,
            "grid_auto_rows": null,
            "grid_gap": null,
            "max_width": null,
            "order": null,
            "_view_module_version": "1.2.0",
            "grid_template_areas": null,
            "object_position": null,
            "object_fit": null,
            "grid_auto_columns": null,
            "margin": null,
            "display": null,
            "left": null
          }
        },
        "b0e52ecc16554e7d8c76c5aaf2a7027c": {
          "model_module": "@jupyter-widgets/controls",
          "model_name": "DescriptionStyleModel",
          "state": {
            "_view_name": "StyleView",
            "_model_name": "DescriptionStyleModel",
            "description_width": "",
            "_view_module": "@jupyter-widgets/base",
            "_model_module_version": "1.5.0",
            "_view_count": null,
            "_view_module_version": "1.2.0",
            "_model_module": "@jupyter-widgets/controls"
          }
        },
        "98e781af5c4a4a8bb157c791f02b82c2": {
          "model_module": "@jupyter-widgets/base",
          "model_name": "LayoutModel",
          "state": {
            "_view_name": "LayoutView",
            "grid_template_rows": null,
            "right": null,
            "justify_content": null,
            "_view_module": "@jupyter-widgets/base",
            "overflow": null,
            "_model_module_version": "1.2.0",
            "_view_count": null,
            "flex_flow": null,
            "width": null,
            "min_width": null,
            "border": null,
            "align_items": null,
            "bottom": null,
            "_model_module": "@jupyter-widgets/base",
            "top": null,
            "grid_column": null,
            "overflow_y": null,
            "overflow_x": null,
            "grid_auto_flow": null,
            "grid_area": null,
            "grid_template_columns": null,
            "flex": null,
            "_model_name": "LayoutModel",
            "justify_items": null,
            "grid_row": null,
            "max_height": null,
            "align_content": null,
            "visibility": null,
            "align_self": null,
            "height": null,
            "min_height": null,
            "padding": null,
            "grid_auto_rows": null,
            "grid_gap": null,
            "max_width": null,
            "order": null,
            "_view_module_version": "1.2.0",
            "grid_template_areas": null,
            "object_position": null,
            "object_fit": null,
            "grid_auto_columns": null,
            "margin": null,
            "display": null,
            "left": null
          }
        },
        "555dcf373d0e4b1d8ca7de8fe225b344": {
          "model_module": "@jupyter-widgets/controls",
          "model_name": "HBoxModel",
          "state": {
            "_view_name": "HBoxView",
            "_dom_classes": [],
            "_model_name": "HBoxModel",
            "_view_module": "@jupyter-widgets/controls",
            "_model_module_version": "1.5.0",
            "_view_count": null,
            "_view_module_version": "1.5.0",
            "box_style": "",
            "layout": "IPY_MODEL_e6c53c9aaf124ae489da4bec7d5e9d9b",
            "_model_module": "@jupyter-widgets/controls",
            "children": [
              "IPY_MODEL_a07b62ace2e840528d75530b0670aedf",
              "IPY_MODEL_37360ac0c03e449a8dd4e4f16d4d533b"
            ]
          }
        },
        "e6c53c9aaf124ae489da4bec7d5e9d9b": {
          "model_module": "@jupyter-widgets/base",
          "model_name": "LayoutModel",
          "state": {
            "_view_name": "LayoutView",
            "grid_template_rows": null,
            "right": null,
            "justify_content": null,
            "_view_module": "@jupyter-widgets/base",
            "overflow": null,
            "_model_module_version": "1.2.0",
            "_view_count": null,
            "flex_flow": null,
            "width": null,
            "min_width": null,
            "border": null,
            "align_items": null,
            "bottom": null,
            "_model_module": "@jupyter-widgets/base",
            "top": null,
            "grid_column": null,
            "overflow_y": null,
            "overflow_x": null,
            "grid_auto_flow": null,
            "grid_area": null,
            "grid_template_columns": null,
            "flex": null,
            "_model_name": "LayoutModel",
            "justify_items": null,
            "grid_row": null,
            "max_height": null,
            "align_content": null,
            "visibility": null,
            "align_self": null,
            "height": null,
            "min_height": null,
            "padding": null,
            "grid_auto_rows": null,
            "grid_gap": null,
            "max_width": null,
            "order": null,
            "_view_module_version": "1.2.0",
            "grid_template_areas": null,
            "object_position": null,
            "object_fit": null,
            "grid_auto_columns": null,
            "margin": null,
            "display": null,
            "left": null
          }
        },
        "a07b62ace2e840528d75530b0670aedf": {
          "model_module": "@jupyter-widgets/controls",
          "model_name": "FloatProgressModel",
          "state": {
            "_view_name": "ProgressView",
            "style": "IPY_MODEL_8f2da9843fb94f56898feb2e7a9a86ef",
            "_dom_classes": [],
            "description": "",
            "_model_name": "FloatProgressModel",
            "bar_style": "success",
            "max": 1,
            "_view_module": "@jupyter-widgets/controls",
            "_model_module_version": "1.5.0",
            "value": 1,
            "_view_count": null,
            "_view_module_version": "1.5.0",
            "orientation": "horizontal",
            "min": 0,
            "description_tooltip": null,
            "_model_module": "@jupyter-widgets/controls",
            "layout": "IPY_MODEL_88f6635e43684adab001d713631a3c47"
          }
        },
        "37360ac0c03e449a8dd4e4f16d4d533b": {
          "model_module": "@jupyter-widgets/controls",
          "model_name": "HTMLModel",
          "state": {
            "_view_name": "HTMLView",
            "style": "IPY_MODEL_fcc74421d2b8483f89f80c24f4f6a327",
            "_dom_classes": [],
            "description": "",
            "_model_name": "HTMLModel",
            "placeholder": "​",
            "_view_module": "@jupyter-widgets/controls",
            "_model_module_version": "1.5.0",
            "value": " 8192/? [00:00&lt;00:00, 12726.70it/s]",
            "_view_count": null,
            "_view_module_version": "1.5.0",
            "description_tooltip": null,
            "_model_module": "@jupyter-widgets/controls",
            "layout": "IPY_MODEL_4cafe9262530481db0649cd349084e27"
          }
        },
        "8f2da9843fb94f56898feb2e7a9a86ef": {
          "model_module": "@jupyter-widgets/controls",
          "model_name": "ProgressStyleModel",
          "state": {
            "_view_name": "StyleView",
            "_model_name": "ProgressStyleModel",
            "description_width": "initial",
            "_view_module": "@jupyter-widgets/base",
            "_model_module_version": "1.5.0",
            "_view_count": null,
            "_view_module_version": "1.2.0",
            "bar_color": null,
            "_model_module": "@jupyter-widgets/controls"
          }
        },
        "88f6635e43684adab001d713631a3c47": {
          "model_module": "@jupyter-widgets/base",
          "model_name": "LayoutModel",
          "state": {
            "_view_name": "LayoutView",
            "grid_template_rows": null,
            "right": null,
            "justify_content": null,
            "_view_module": "@jupyter-widgets/base",
            "overflow": null,
            "_model_module_version": "1.2.0",
            "_view_count": null,
            "flex_flow": null,
            "width": null,
            "min_width": null,
            "border": null,
            "align_items": null,
            "bottom": null,
            "_model_module": "@jupyter-widgets/base",
            "top": null,
            "grid_column": null,
            "overflow_y": null,
            "overflow_x": null,
            "grid_auto_flow": null,
            "grid_area": null,
            "grid_template_columns": null,
            "flex": null,
            "_model_name": "LayoutModel",
            "justify_items": null,
            "grid_row": null,
            "max_height": null,
            "align_content": null,
            "visibility": null,
            "align_self": null,
            "height": null,
            "min_height": null,
            "padding": null,
            "grid_auto_rows": null,
            "grid_gap": null,
            "max_width": null,
            "order": null,
            "_view_module_version": "1.2.0",
            "grid_template_areas": null,
            "object_position": null,
            "object_fit": null,
            "grid_auto_columns": null,
            "margin": null,
            "display": null,
            "left": null
          }
        },
        "fcc74421d2b8483f89f80c24f4f6a327": {
          "model_module": "@jupyter-widgets/controls",
          "model_name": "DescriptionStyleModel",
          "state": {
            "_view_name": "StyleView",
            "_model_name": "DescriptionStyleModel",
            "description_width": "",
            "_view_module": "@jupyter-widgets/base",
            "_model_module_version": "1.5.0",
            "_view_count": null,
            "_view_module_version": "1.2.0",
            "_model_module": "@jupyter-widgets/controls"
          }
        },
        "4cafe9262530481db0649cd349084e27": {
          "model_module": "@jupyter-widgets/base",
          "model_name": "LayoutModel",
          "state": {
            "_view_name": "LayoutView",
            "grid_template_rows": null,
            "right": null,
            "justify_content": null,
            "_view_module": "@jupyter-widgets/base",
            "overflow": null,
            "_model_module_version": "1.2.0",
            "_view_count": null,
            "flex_flow": null,
            "width": null,
            "min_width": null,
            "border": null,
            "align_items": null,
            "bottom": null,
            "_model_module": "@jupyter-widgets/base",
            "top": null,
            "grid_column": null,
            "overflow_y": null,
            "overflow_x": null,
            "grid_auto_flow": null,
            "grid_area": null,
            "grid_template_columns": null,
            "flex": null,
            "_model_name": "LayoutModel",
            "justify_items": null,
            "grid_row": null,
            "max_height": null,
            "align_content": null,
            "visibility": null,
            "align_self": null,
            "height": null,
            "min_height": null,
            "padding": null,
            "grid_auto_rows": null,
            "grid_gap": null,
            "max_width": null,
            "order": null,
            "_view_module_version": "1.2.0",
            "grid_template_areas": null,
            "object_position": null,
            "object_fit": null,
            "grid_auto_columns": null,
            "margin": null,
            "display": null,
            "left": null
          }
        }
      }
    }
  },
  "cells": [
    {
      "cell_type": "markdown",
      "metadata": {
        "id": "56brIzVIybNF",
        "colab_type": "text"
      },
      "source": [
        "# Introduction \n",
        "This program is a neuronal newtork which can increase (7 by 7) images to (28 by 28) while keeping the global shape described by the starting image.\n",
        "\n",
        "*   The specificity here is the loss function which has been developped by ourself. The custom loss function returns the result of the addition of the super SuperResolutionModel loss and a classification loss obtained by feeding an MNIST classifier with the output of SuperResolutionModel.\n",
        "\n",
        "\n"
      ]
    },
    {
      "cell_type": "markdown",
      "metadata": {
        "id": "M0yHS7DUyrIo",
        "colab_type": "text"
      },
      "source": [
        "First we have to import all the libraries that we need\n"
      ]
    },
    {
      "cell_type": "code",
      "metadata": {
        "id": "uJOa086STP-7",
        "colab_type": "code",
        "colab": {}
      },
      "source": [
        "import torch\n",
        "import matplotlib.pyplot as plt\n",
        "import torch.nn as nn\n",
        "import torch.nn.functional as F\n",
        "from torchvision import datasets, transforms\n",
        "from torch.utils.data import DataLoader\n",
        "from torch.utils.data import TensorDataset\n",
        "import torch.optim as optim\n",
        "from torch.optim import lr_scheduler\n",
        "from skimage.measure import block_reduce\n",
        "import numpy as np\n",
        "import matplotlib.pyplot as plt\n",
        "from matplotlib.image import imread"
      ],
      "execution_count": 0,
      "outputs": []
    },
    {
      "cell_type": "markdown",
      "metadata": {
        "id": "DIaop55eysIy",
        "colab_type": "text"
      },
      "source": [
        "This cell allows to dowload the MNIST dataset. \n",
        "We apply a modification on the content by the transform \"mnist_transform\" which is a transformation of all images to tensors. That is these tensors that we will use to train our model.\n",
        "\n",
        "Then we create two dataloader :\n",
        "\n",
        "*   The first one, train_loader is made from the train dataset of MNIST.\n",
        "*   The second one, test_loader is made from the test dataset of MNIST.\n",
        "\n",
        "Our train_loader and test_loader are composed by batchs of 32 images ."
      ]
    },
    {
      "cell_type": "code",
      "metadata": {
        "id": "AEttsSpoTRUl",
        "colab_type": "code",
        "colab": {
          "base_uri": "https://localhost:8080/",
          "height": 356,
          "referenced_widgets": [
            "07f457bcc8604a9ebf4f7bd0236ae887",
            "15d51f4dd0a44eba8dfd85b96217f611",
            "a21953dbe71b4087b96e9bd0332f4b6c",
            "a14b64dbbc924d95b273c875aa00c63d",
            "b5979a23229845ca9f17a94f80d355b5",
            "3975c88519a047359572a8161cb83b75",
            "e6b31e28d8cc43b0b4aa08b4a1977e08",
            "e21316512ef2468d867282d902029959",
            "7d7f5693b914468c974ea88f4bf9c9b8",
            "9b358ed724774cb698ebe65d78c03746",
            "280147e383304fb997803580988d8d8a",
            "22f3b4e9ea47481286e5a9565e164f16",
            "80d39d641d6e4f9183da0f76411c6b3e",
            "4eebbaca8d4547e1b9064263fc49d62b",
            "656253c3231745c49ca17307f57d8801",
            "d371dca9dca04d4f86c3e6626b887c68",
            "56e8e5a12aa44aa2b25e9e4dcad17031",
            "0e7c4acede1c4db7a15b25bcbb65f99b",
            "da834b16d8d841c3a3868c1f0657e54a",
            "811a08b5cdd64bc0bffa483ef62ba59f",
            "91efdaefde944ed7a008f12878af6ada",
            "daac6e2d435e4a788d84a1fb093bbcfe",
            "b0e52ecc16554e7d8c76c5aaf2a7027c",
            "98e781af5c4a4a8bb157c791f02b82c2",
            "555dcf373d0e4b1d8ca7de8fe225b344",
            "e6c53c9aaf124ae489da4bec7d5e9d9b",
            "a07b62ace2e840528d75530b0670aedf",
            "37360ac0c03e449a8dd4e4f16d4d533b",
            "8f2da9843fb94f56898feb2e7a9a86ef",
            "88f6635e43684adab001d713631a3c47",
            "fcc74421d2b8483f89f80c24f4f6a327",
            "4cafe9262530481db0649cd349084e27"
          ]
        },
        "outputId": "67a12321-6195-426e-da56-ed8264673deb"
      },
      "source": [
        "mnist_transform = transforms.Compose([\n",
        "  transforms.ToTensor()\n",
        "])\n",
        "\n",
        "train_dataset = datasets.MNIST(root = '../data', train = True, download = True, transform = mnist_transform)\n",
        "test_dataset = datasets.MNIST(root = '../data', train = False, download = True, transform = mnist_transform)\n",
        "\n",
        "train_loader = DataLoader(train_dataset, batch_size = 32, shuffle = True)\n",
        "test_loader  = DataLoader(test_dataset, batch_size = 32, shuffle = True)"
      ],
      "execution_count": 4,
      "outputs": [
        {
          "output_type": "stream",
          "text": [
            "Downloading http://yann.lecun.com/exdb/mnist/train-images-idx3-ubyte.gz to ../data/MNIST/raw/train-images-idx3-ubyte.gz\n"
          ],
          "name": "stdout"
        },
        {
          "output_type": "display_data",
          "data": {
            "application/vnd.jupyter.widget-view+json": {
              "model_id": "07f457bcc8604a9ebf4f7bd0236ae887",
              "version_minor": 0,
              "version_major": 2
            },
            "text/plain": [
              "HBox(children=(FloatProgress(value=1.0, bar_style='info', max=1.0), HTML(value='')))"
            ]
          },
          "metadata": {
            "tags": []
          }
        },
        {
          "output_type": "stream",
          "text": [
            "Extracting ../data/MNIST/raw/train-images-idx3-ubyte.gz to ../data/MNIST/raw\n",
            "Downloading http://yann.lecun.com/exdb/mnist/train-labels-idx1-ubyte.gz to ../data/MNIST/raw/train-labels-idx1-ubyte.gz\n"
          ],
          "name": "stdout"
        },
        {
          "output_type": "display_data",
          "data": {
            "application/vnd.jupyter.widget-view+json": {
              "model_id": "7d7f5693b914468c974ea88f4bf9c9b8",
              "version_minor": 0,
              "version_major": 2
            },
            "text/plain": [
              "HBox(children=(FloatProgress(value=1.0, bar_style='info', max=1.0), HTML(value='')))"
            ]
          },
          "metadata": {
            "tags": []
          }
        },
        {
          "output_type": "stream",
          "text": [
            "Extracting ../data/MNIST/raw/train-labels-idx1-ubyte.gz to ../data/MNIST/raw\n",
            "Downloading http://yann.lecun.com/exdb/mnist/t10k-images-idx3-ubyte.gz to ../data/MNIST/raw/t10k-images-idx3-ubyte.gz\n"
          ],
          "name": "stdout"
        },
        {
          "output_type": "display_data",
          "data": {
            "application/vnd.jupyter.widget-view+json": {
              "model_id": "56e8e5a12aa44aa2b25e9e4dcad17031",
              "version_minor": 0,
              "version_major": 2
            },
            "text/plain": [
              "HBox(children=(FloatProgress(value=1.0, bar_style='info', max=1.0), HTML(value='')))"
            ]
          },
          "metadata": {
            "tags": []
          }
        },
        {
          "output_type": "stream",
          "text": [
            "Extracting ../data/MNIST/raw/t10k-images-idx3-ubyte.gz to ../data/MNIST/raw\n",
            "Downloading http://yann.lecun.com/exdb/mnist/t10k-labels-idx1-ubyte.gz to ../data/MNIST/raw/t10k-labels-idx1-ubyte.gz\n"
          ],
          "name": "stdout"
        },
        {
          "output_type": "display_data",
          "data": {
            "application/vnd.jupyter.widget-view+json": {
              "model_id": "555dcf373d0e4b1d8ca7de8fe225b344",
              "version_minor": 0,
              "version_major": 2
            },
            "text/plain": [
              "HBox(children=(FloatProgress(value=1.0, bar_style='info', max=1.0), HTML(value='')))"
            ]
          },
          "metadata": {
            "tags": []
          }
        },
        {
          "output_type": "stream",
          "text": [
            "Extracting ../data/MNIST/raw/t10k-labels-idx1-ubyte.gz to ../data/MNIST/raw\n",
            "Processing...\n",
            "Done!\n"
          ],
          "name": "stdout"
        },
        {
          "output_type": "stream",
          "text": [
            "/pytorch/torch/csrc/utils/tensor_numpy.cpp:141: UserWarning: The given NumPy array is not writeable, and PyTorch does not support non-writeable tensors. This means you can write to the underlying (supposedly non-writeable) NumPy array using the tensor. You may want to copy the array to protect its data or make it writeable before converting it to a tensor. This type of warning will be suppressed for the rest of this program.\n"
          ],
          "name": "stderr"
        }
      ]
    },
    {
      "cell_type": "markdown",
      "metadata": {
        "id": "nfy_Iu3Rz-qJ",
        "colab_type": "text"
      },
      "source": [
        "The following cell creates a dataset composed by minimized images (From 28x28 to 7x7) by using an average pooling operation on our train and test datasets (based on the FashionMNIST dataset) to keep the global shape of the pattern on each image. \n",
        "\n",
        "Then we initialise two loader based on our new datasets, new_train_dataset and new_test_dataset."
      ]
    },
    {
      "cell_type": "code",
      "metadata": {
        "id": "IQC3sCSbTqcR",
        "colab_type": "code",
        "colab": {}
      },
      "source": [
        "def get_minimized_dataset(dataset):\n",
        "  new_dataset = []\n",
        "  for i_data in range(len(dataset)):\n",
        "    new_dataset.append([])\n",
        "    new_dataset[i_data].append(torch.tensor([block_reduce(dataset[i_data][0][0], block_size = (4,4), func=np.mean)]))\n",
        "    new_dataset[i_data].append(dataset[i_data][0])\n",
        "    new_dataset[i_data].append(dataset[i_data][1])\n",
        "  return new_dataset\n",
        "\n",
        "new_train_dataset = get_minimized_dataset(train_dataset)\n",
        "new_test_dataset = get_minimized_dataset(test_dataset)\n",
        "\n",
        "new_train_loader = DataLoader(new_train_dataset, batch_size = 32, shuffle = True)\n",
        "new_test_loader = DataLoader(new_test_dataset, batch_size = 32, shuffle = True)"
      ],
      "execution_count": 0,
      "outputs": []
    },
    {
      "cell_type": "markdown",
      "metadata": {
        "id": "RnCzizmc0DEs",
        "colab_type": "text"
      },
      "source": [
        "This class defines a convolutional block which will be implemented in our model.\n",
        "By default this block does not changes the input size and a relu activation function is applied."
      ]
    },
    {
      "cell_type": "code",
      "metadata": {
        "id": "1P4D2kRkT0K6",
        "colab_type": "code",
        "colab": {}
      },
      "source": [
        "class ConvBlock(nn.Module):\n",
        "    def __init__(self, in_channels, out_channels, kernel_size = 3, stride = 1, padding = 1, act = F.relu):\n",
        "        super(ConvBlock, self).__init__()\n",
        "        self.conv = nn.Conv2d(\n",
        "            in_channels  = in_channels, #nb de chanels entrantes (3) si c'est une image\n",
        "            out_channels = out_channels, #nb de chanels sortantes, de formes differntes à capter du coup\n",
        "            kernel_size  = kernel_size, #taille du kernel (matrice)\n",
        "            stride       = stride,  #de combiens de pixels le kernel est decalé pendant les operations\n",
        "            padding      = padding, #nb pixels hors du cadre\n",
        "        )\n",
        "        self.act = act\n",
        "\n",
        "    def forward(self, x):\n",
        "        x = self.conv(x)\n",
        "        x = self.act(x)\n",
        "        return x"
      ],
      "execution_count": 0,
      "outputs": []
    },
    {
      "cell_type": "markdown",
      "metadata": {
        "id": "D-AvXBDc0HCC",
        "colab_type": "text"
      },
      "source": [
        "This class defines a convolutional upsample which will be usefull to increase by 2 the size of our images in our neuronal network."
      ]
    },
    {
      "cell_type": "code",
      "metadata": {
        "id": "LvcHRAJKT3qr",
        "colab_type": "code",
        "colab": {}
      },
      "source": [
        "class ConvUpsample(nn.Module):\n",
        "\n",
        "    def __init__(self, kernel_size = 3, stride = 1, padding = 0, act = F.relu):\n",
        "        super(ConvUpsample, self).__init__()   \n",
        "        self.conv = nn.Upsample(scale_factor = 2, mode='bilinear', align_corners=False)\n",
        "\n",
        "    def forward(self, x):\n",
        "        x = self.conv(x)\n",
        "        return x"
      ],
      "execution_count": 0,
      "outputs": []
    },
    {
      "cell_type": "markdown",
      "metadata": {
        "id": "3QAyhzrcQPSm",
        "colab_type": "text"
      },
      "source": [
        "This class defines a classifier neuronal network which can predict a class of an image between 0 and 9.\n",
        "It uses several convolutional layer and then several linear layer to detect what number each image represents."
      ]
    },
    {
      "cell_type": "code",
      "metadata": {
        "id": "tPMRhtyNokS9",
        "colab_type": "code",
        "colab": {}
      },
      "source": [
        "class Classifier(nn.Module):\n",
        "    def __init__(self):\n",
        "        super(Classifier, self).__init__()\n",
        "\n",
        "        self.conv_layers = nn.Sequential(\n",
        "            ConvBlock(1, 32),\n",
        "            nn.Dropout2d(0.2),\n",
        "            ConvBlock(32, 64),\n",
        "            nn.Dropout2d(0.1)\n",
        "        )\n",
        "            \n",
        "        self.dropout1 = nn.Dropout2d(0.2)\n",
        "        self.dropout2 = nn.Dropout2d(0.1)\n",
        "        self.linear1 = nn.Linear(64 * 14 * 14, 64)\n",
        "        self.linear3 = nn.Linear(64, 10)\n",
        "\n",
        "\n",
        "    def forward(self, x):\n",
        "        x = self.conv_layers(x)\n",
        "        x = F.max_pool2d(x, 2)\n",
        "        x = x.view(-1, 14 * 14 * 64)\n",
        "        x = self.linear1(x)\n",
        "        x = F.relu(x)\n",
        "        x = self.linear3(x)\n",
        "        output = F.log_softmax(x, dim = 1)\n",
        "        return output"
      ],
      "execution_count": 0,
      "outputs": []
    },
    {
      "cell_type": "markdown",
      "metadata": {
        "id": "0o_WevrlQ5oW",
        "colab_type": "text"
      },
      "source": [
        "The MNISTClassifier class creates a classifier neuronal network on the MNIST dataset.\n",
        "\n",
        "The model can be trained and frozen to be used by another program or neuronal network without modifying his weights."
      ]
    },
    {
      "cell_type": "code",
      "metadata": {
        "id": "hvCejDSlutCR",
        "colab_type": "code",
        "colab": {}
      },
      "source": [
        "class MNISTClassifier():\n",
        "    def __init__(self):\n",
        "      self.model = Classifier()\n",
        "      self.trained = False\n",
        "\n",
        "    def get_model(self):\n",
        "      return self.model\n",
        "\n",
        "    def freeze_model(self):\n",
        "      if (not self.trained):\n",
        "        raise Exception(\"Please train model before freezing it\")\n",
        "      for param in self.model.parameters():\n",
        "        param.requires_grad = False\n",
        "\n",
        "    def __train_loop(self, model, criterion, optimizer, train_loader, test_loader, epochs, batch_size, device):\n",
        "        for epoch in range(epochs):\n",
        "            for batch_id, (X, y) in enumerate(train_loader):\n",
        "                X = X.to(device)\n",
        "                y = y.to(device)\n",
        "                y_pred = model(X)\n",
        "                loss   = criterion(y_pred, y) \n",
        "                loss.backward()\n",
        "                optimizer.step()\n",
        "                optimizer.zero_grad()\n",
        "            print(f'{100 * self.__evaluation_loop(model, train_loader, test_loader, batch_size, device):5.3f}% accuracy')\n",
        "            \n",
        "\n",
        "    def __evaluation_loop(self, model, train_loader, test_loader, batch_size, device):\n",
        "        correct_pred = 0\n",
        "        total_pred   = 0\n",
        "        with torch.no_grad():\n",
        "            for batch_id, (X, y) in enumerate(test_loader):\n",
        "                X = X.to(device)\n",
        "                y = y.to(device)\n",
        "                if(batch_id == 200):\n",
        "                  break\n",
        "                y_pred        = model(X)\n",
        "                y_pred_class  = y_pred.argmax(dim = 1)\n",
        "                correct_pred += (y_pred_class == y).sum().item()\n",
        "                total_pred   += len(y)\n",
        "        return correct_pred / total_pred\n",
        "\n",
        "    def train(self, epochs = 20, batch_size = 32, learning_rate = 1e-3, freezed=False):\n",
        "        epochs        = 8\n",
        "        batch_size    = 32\n",
        "        learning_rate = 1e-3\n",
        "        device = torch.device('cuda')\n",
        "        self.model.to(device) \n",
        "        criterion     = nn.NLLLoss()\n",
        "        optimizer     = optim.SGD(params = self.model.parameters(), lr = learning_rate)\n",
        "        self.__train_loop(self.model, criterion, optimizer, train_loader, test_loader, epochs, batch_size, device)\n",
        "        self.trained = True"
      ],
      "execution_count": 0,
      "outputs": []
    },
    {
      "cell_type": "markdown",
      "metadata": {
        "id": "xpQ7GkFTSE_I",
        "colab_type": "text"
      },
      "source": [
        "This is our custom loss function. It returns the result of the SuperResolutionModel loss and the MNISTClassifier loss with the SuperResolutionModel prediction used as input."
      ]
    },
    {
      "cell_type": "code",
      "metadata": {
        "id": "552PMoJtxVs5",
        "colab_type": "code",
        "colab": {}
      },
      "source": [
        "def lossefunction(imageprediction, classifierprediction, imagegoal, numgoal):\n",
        "  f1 = nn.NLLLoss()\n",
        "  classifier_loss = f1(classifierprediction, numgoal)\n",
        "  f2 = nn.MSELoss()\n",
        "  model_loss = f2(imageprediction, imagegoal)\n",
        "  return model_loss + classifier_loss"
      ],
      "execution_count": 0,
      "outputs": []
    },
    {
      "cell_type": "markdown",
      "metadata": {
        "id": "9AJdJddJ0zdv",
        "colab_type": "text"
      },
      "source": [
        "The goal of our model is to increase the resolution of a given image while increase the quality of the pattern described by the image.\n",
        "\n",
        "This model is composed by several convolution layer and performs two increase operation (from 7 * 7 to 14 * 14 and from 14 * 14 to 28 * 28).\n",
        "\n",
        "It uses some dropout to avoid dataset memorizing from model."
      ]
    },
    {
      "cell_type": "code",
      "metadata": {
        "id": "pII__pR1T7Ws",
        "colab_type": "code",
        "colab": {}
      },
      "source": [
        "class SuperResolutionModel(nn.Module):\n",
        "    def __init__(self):\n",
        "        super(SuperResolutionModel, self).__init__()\n",
        "\n",
        "        self.seq = nn.Sequential(\n",
        "            ConvUpsample(),\n",
        "            ConvBlock(1, 128),\n",
        "            ConvBlock(128, 128),\n",
        "            nn.Dropout(p = 0.2),\n",
        "            ConvBlock(128, 64),\n",
        "            ConvUpsample(),\n",
        "            ConvBlock(64, 64),\n",
        "            nn.Dropout(p = 0.1),\n",
        "            ConvBlock(64, 32),\n",
        "            ConvBlock(32, 32),\n",
        "            ConvBlock(32, 1, act = nn.Sigmoid())\n",
        "        )\n",
        "        classifier = MNISTClassifier()\n",
        "        classifier.train(freezed = True)\n",
        "        self.MNISTclassifier = classifier.get_model()\n",
        "\n",
        "    def forward(self, x):\n",
        "        imageprediction = self.seq(x)\n",
        "        classifier_pred = self.MNISTclassifier(imageprediction)\n",
        "        return imageprediction, classifier_pred"
      ],
      "execution_count": 0,
      "outputs": []
    },
    {
      "cell_type": "markdown",
      "metadata": {
        "id": "c7rNlzOe1A0-",
        "colab_type": "text"
      },
      "source": [
        "This method allows to train our model. It calculates a prediction, and adjust the weights according to the result.\n",
        "\n",
        "At each epoch we call the evaluation function to know the model accuracy."
      ]
    },
    {
      "cell_type": "code",
      "metadata": {
        "id": "LmKI8KNZUHtb",
        "colab_type": "code",
        "colab": {}
      },
      "source": [
        "def train(model, criterion, optimizer, epochs, trainloader, testloader, device, scheduler): \n",
        "    model.train() \n",
        "    for epoch in range(epochs): \n",
        "        print('Epoch {}/{}'.format(epoch+1, epochs))\n",
        "        print('-' * 10)\n",
        "        eval_loss  = evaluate(model, criterion, device, testloader, 20)\n",
        "        print(f' Eval : loss {eval_loss:6.7f} 'f'\\n')\n",
        "        for batch_id, (X, y, z) in enumerate(trainloader): #X = data given to the model for predictions , y = the expected result, z = int representation of the image\n",
        "            X, y, z = X.to(device), y.to(device), z.to(device) #64 images 28x28\n",
        "            optimizer.zero_grad() #pour \"nettoyer\" l'optimiser\n",
        "            model_pred, classifier_pred = model(X) #gets the model prediction\n",
        "            loss = lossefunction(model_pred, classifier_pred, y, z) #calculates the prediction loss\n",
        "            loss.backward() #updates the weights to make future predictions closer to what we want \n",
        "            optimizer.step() #notifies the optimizer that we did a step \n",
        "        scheduler.step() #decreases the learning rate"
      ],
      "execution_count": 0,
      "outputs": []
    },
    {
      "cell_type": "markdown",
      "metadata": {
        "id": "m9fNTIzh1Fy5",
        "colab_type": "text"
      },
      "source": [
        "This method goal is to evaluate the model accuracy. For each batch in the loader,\n",
        "it calculates the model prediction on an element and use the criterion for calculate the gap between the prediction and the desired result. This result is added to the loss.\n",
        "When n_batch have been calculated, the method shows 4 images :\n",
        "\n",
        "*   The first one is the image that has been given to the model.\n",
        "*   The second one is the desired image.\n",
        "*   The last one is the image made by the model.\n",
        "\n",
        "\n",
        "Finally the function returns the average loss of all predictions."
      ]
    },
    {
      "cell_type": "code",
      "metadata": {
        "id": "IKFlTYyoUbib",
        "colab_type": "code",
        "colab": {}
      },
      "source": [
        "def evaluate(model, criterion, device, loader, n_batch = -1):\n",
        "    model.eval()\n",
        "    losses = 0\n",
        "    total_pred = 0\n",
        "    figure = plt.figure()\n",
        "    with torch.no_grad():\n",
        "      for batch_id, (X, y, z) in enumerate(loader):\n",
        "            X = X.to(device)\n",
        "            y = y.to(device)\n",
        "            z = z.to(device)\n",
        "            if (batch_id == n_batch): \n",
        "              figure.add_subplot(1, 3, 1)\n",
        "              plt.imshow(X[0][0].cpu().detach(), cmap = 'gray')\n",
        "              figure.add_subplot(1, 3, 2)\n",
        "              plt.imshow(y[0][0].cpu().detach(), cmap = 'gray')\n",
        "              figure.add_subplot(1, 3, 3)\n",
        "              img, pred = model(X)\n",
        "              plt.imshow(img[0][0].cpu().detach(), cmap = 'gray')\n",
        "              plt.show()\n",
        "              return losses / total_pred\n",
        "            model_pred, classifier_pred = model(X)\n",
        "            losses += lossefunction(model_pred, classifier_pred, y, z)\n",
        "            total_pred  += len(y)"
      ],
      "execution_count": 0,
      "outputs": []
    },
    {
      "cell_type": "code",
      "metadata": {
        "id": "v0sR2Of4Ucuq",
        "colab_type": "code",
        "colab": {}
      },
      "source": [
        "def main():\n",
        "    epochs        = 8 #number of detabase iteration\n",
        "    learning_rate = 1e-3 #sets the starting learning rate\n",
        "    device = torch.device('cuda') #sets the device to the GPU\n",
        "    model = SuperResolutionModel() #creates the neuronal network\n",
        "    model = model.to(device) #sets the model in the device\n",
        "    optimizer     = optim.Adagrad( params = model.parameters(), lr = learning_rate )#setting the optimizer algorithm with wich update neuronal weights\n",
        "    scheduler = lr_scheduler.StepLR(optimizer, step_size=3, gamma=0.3)#the scheduler is used to update the learning rate gradually\n",
        "    criterion     = nn.MSELoss() #sets the loss function\n",
        "    train(model, criterion, optimizer, epochs, new_train_loader, new_test_loader, device, scheduler)\n",
        "    return"
      ],
      "execution_count": 0,
      "outputs": []
    },
    {
      "cell_type": "code",
      "metadata": {
        "id": "Noos8CIrUg_w",
        "colab_type": "code",
        "outputId": "23c28378-b1ad-4379-b045-e83212ffd583",
        "colab": {
          "base_uri": "https://localhost:8080/",
          "height": 1000
        }
      },
      "source": [
        "main()"
      ],
      "execution_count": 31,
      "outputs": [
        {
          "output_type": "stream",
          "text": [
            "83.156% accuracy\n",
            "89.922% accuracy\n",
            "90.859% accuracy\n",
            "91.828% accuracy\n",
            "92.453% accuracy\n",
            "93.047% accuracy\n",
            "93.047% accuracy\n",
            "93.609% accuracy\n",
            "Epoch 1/8\n",
            "----------\n"
          ],
          "name": "stdout"
        },
        {
          "output_type": "display_data",
          "data": {
            "image/png": "[encoded data removed]",
            "text/plain": [
              "<Figure size 432x288 with 3 Axes>"
            ]
          },
          "metadata": {
            "tags": [],
            "needs_background": "light"
          }
        },
        {
          "output_type": "stream",
          "text": [
            " Eval : loss 0.3434753 \n",
            "\n",
            "Epoch 2/8\n",
            "----------\n"
          ],
          "name": "stdout"
        },
        {
          "output_type": "display_data",
          "data": {
            "image/png": "[encoded data removed]",
            "text/plain": [
              "<Figure size 432x288 with 3 Axes>"
            ]
          },
          "metadata": {
            "tags": [],
            "needs_background": "light"
          }
        },
        {
          "output_type": "stream",
          "text": [
            " Eval : loss 0.0075192 \n",
            "\n",
            "Epoch 3/8\n",
            "----------\n"
          ],
          "name": "stdout"
        },
        {
          "output_type": "display_data",
          "data": {
            "image/png": "[encoded data removed]",
            "text/plain": [
              "<Figure size 432x288 with 3 Axes>"
            ]
          },
          "metadata": {
            "tags": [],
            "needs_background": "light"
          }
        },
        {
          "output_type": "stream",
          "text": [
            " Eval : loss 0.0058884 \n",
            "\n",
            "Epoch 4/8\n",
            "----------\n"
          ],
          "name": "stdout"
        },
        {
          "output_type": "display_data",
          "data": {
            "image/png": "[encoded data removed]",
            "text/plain": [
              "<Figure size 432x288 with 3 Axes>"
            ]
          },
          "metadata": {
            "tags": [],
            "needs_background": "light"
          }
        },
        {
          "output_type": "stream",
          "text": [
            " Eval : loss 0.0062295 \n",
            "\n",
            "Epoch 5/8\n",
            "----------\n"
          ],
          "name": "stdout"
        },
        {
          "output_type": "display_data",
          "data": {
            "image/png": "[encoded data removed]",
            "text/plain": [
              "<Figure size 432x288 with 3 Axes>"
            ]
          },
          "metadata": {
            "tags": [],
            "needs_background": "light"
          }
        },
        {
          "output_type": "stream",
          "text": [
            " Eval : loss 0.0068188 \n",
            "\n",
            "Epoch 6/8\n",
            "----------\n"
          ],
          "name": "stdout"
        },
        {
          "output_type": "display_data",
          "data": {
            "image/png": "[encoded data removed]",
            "text/plain": [
              "<Figure size 432x288 with 3 Axes>"
            ]
          },
          "metadata": {
            "tags": [],
            "needs_background": "light"
          }
        },
        {
          "output_type": "stream",
          "text": [
            " Eval : loss 0.0058611 \n",
            "\n",
            "Epoch 7/8\n",
            "----------\n"
          ],
          "name": "stdout"
        },
        {
          "output_type": "display_data",
          "data": {
            "image/png": "[encoded data removed]",
            "text/plain": [
              "<Figure size 432x288 with 3 Axes>"
            ]
          },
          "metadata": {
            "tags": [],
            "needs_background": "light"
          }
        },
        {
          "output_type": "stream",
          "text": [
            " Eval : loss 0.0061756 \n",
            "\n",
            "Epoch 8/8\n",
            "----------\n"
          ],
          "name": "stdout"
        },
        {
          "output_type": "display_data",
          "data": {
            "image/png": "[encoded data removed]",
            "text/plain": [
              "<Figure size 432x288 with 3 Axes>"
            ]
          },
          "metadata": {
            "tags": [],
            "needs_background": "light"
          }
        },
        {
          "output_type": "stream",
          "text": [
            " Eval : loss 0.0069779 \n",
            "\n"
          ],
          "name": "stdout"
        }
      ]
    }
  ]
}